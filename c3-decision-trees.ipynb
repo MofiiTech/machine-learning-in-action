{
 "cells": [
  {
   "cell_type": "markdown",
   "metadata": {},
   "source": [
    "---\n",
    "Type: Reading Notes\n",
    "Book Title: Machine Learning In Action\n",
    "Subtitle: Chapter 3 - Splitting datasets one feature at a time: decision trees\n",
    "---\n",
    "\n",
    "# Chapter 3 - Splitting datasets one feature at a time: decision trees\n",
    "\n",
    "## Tree construction\n",
    "\n",
    ">Decision trees\n",
    ">Pros: Computationally cheap to use, easy for humans to understand learned results, missing values OK, can deal with irrelevant features\n",
    ">Cons: Prone to overfitting\n",
    ">Works with: Numeric values, nominal values\n",
    "\n",
    "Before we write the function *createBranch()* in Python, we need to split the dataset. If we split on an attribute and it has four possible values, then we'll split the data four ways and create four separate branches. We'll follow the [ID3 algorithm](https://en.wikipedia.org/wiki/ID3_algorithm), which tells us how to split the data and when to stop splitting it.\n",
    "\n",
    "### Information gain\n",
    "\n",
    "We choose to split our dataset in a way that makes our unorganized data more organized. One way to do this is to measure the information. Using information theory, you can measure the information before and after the split.\n",
    "\n",
    "The change in the information before and after the split is known as the **information gain**. We can split the dataset across every feature to see which split gives the highest information gain. The split with the highest information gain is the best option. The measure of information of a set is known as the **Shannon entropy**, or just **entroppy**.\n",
    "\n",
    "Entropy is defined as the expected value of the information. If you're classifying something that can take on multiple values, the information for symbol x<sup>i</sup> is defined as\n",
    "\n",
    "$l(x_i) = \\log_2p(x_i)$\n",
    "\n",
    "where $$p(x_i)$$ is the probability of choosing this class."
   ]
  }
 ],
 "metadata": {
  "kernelspec": {
   "display_name": "Python 3",
   "language": "python",
   "name": "python3"
  },
  "language_info": {
   "codemirror_mode": {
    "name": "ipython",
    "version": 3
   },
   "file_extension": ".py",
   "mimetype": "text/x-python",
   "name": "python",
   "nbconvert_exporter": "python",
   "pygments_lexer": "ipython3",
   "version": "3.6.5"
  }
 },
 "nbformat": 4,
 "nbformat_minor": 2
}
